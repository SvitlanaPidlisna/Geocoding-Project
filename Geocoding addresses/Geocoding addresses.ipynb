{
 "cells": [
  {
   "cell_type": "markdown",
   "id": "2310e35b-e99b-4fd6-ad0b-df00baff3c96",
   "metadata": {},
   "source": [
    "# Geocode adresses without coordinates"
   ]
  },
  {
   "cell_type": "markdown",
   "id": "10604db4-4dc7-472e-8f3b-2d1108da308c",
   "metadata": {},
   "source": [
    "#### Manually check address\n",
    "Add full address to list **locations**"
   ]
  },
  {
   "cell_type": "code",
   "execution_count": 3,
   "id": "7c42bdc6-7d4c-40fc-9f05-10fb964bd8d6",
   "metadata": {},
   "outputs": [
    {
     "name": "stdout",
     "output_type": "stream",
     "text": [
      "Location1 -37.7154833 144.7159521\n"
     ]
    }
   ],
   "source": [
    "from geopy.geocoders import Nominatim\n",
    "import time\n",
    "\n",
    "locations = [\n",
    "    ('Location1' ,'29 Skyline Rd, Fraser Rise, VIC, 3336')\n",
    "]\n",
    "geolocator = Nominatim(user_agent=\"test_app\")\n",
    "for city, address in locations:\n",
    "    location = geolocator.geocode(address)\n",
    "    print(city, location.latitude, location.longitude)\n",
    "    time.sleep(2) "
   ]
  },
  {
   "cell_type": "markdown",
   "id": "fe3ea458-2e00-4fe5-a046-f8f45551c95f",
   "metadata": {},
   "source": [
    "#### Import CSV file and read"
   ]
  },
  {
   "cell_type": "code",
   "execution_count": 13,
   "id": "94ff9f7c-0475-45e9-8345-00595f200953",
   "metadata": {},
   "outputs": [],
   "source": [
    "import os\n",
    "data_pkg_path = 'data'\n",
    "filename = 'test_csv.csv'\n",
    "path = os.path.join(data_pkg_path, filename)\n"
   ]
  },
  {
   "cell_type": "code",
   "execution_count": 14,
   "id": "334c9dbd-fb0d-4560-9b04-8473a8798c8e",
   "metadata": {},
   "outputs": [],
   "source": [
    "df = pd.read_csv(path)"
   ]
  },
  {
   "cell_type": "code",
   "execution_count": 15,
   "id": "008d869f-1b5f-4408-8f3f-40115f001ffe",
   "metadata": {},
   "outputs": [
    {
     "data": {
      "text/html": [
       "<div>\n",
       "<style scoped>\n",
       "    .dataframe tbody tr th:only-of-type {\n",
       "        vertical-align: middle;\n",
       "    }\n",
       "\n",
       "    .dataframe tbody tr th {\n",
       "        vertical-align: top;\n",
       "    }\n",
       "\n",
       "    .dataframe thead th {\n",
       "        text-align: right;\n",
       "    }\n",
       "</style>\n",
       "<table border=\"1\" class=\"dataframe\">\n",
       "  <thead>\n",
       "    <tr style=\"text-align: right;\">\n",
       "      <th></th>\n",
       "      <th>ID</th>\n",
       "      <th>Address</th>\n",
       "      <th>Suburb</th>\n",
       "      <th>State</th>\n",
       "      <th>Postcode</th>\n",
       "      <th>Lat</th>\n",
       "      <th>Long</th>\n",
       "      <th>Address_full</th>\n",
       "    </tr>\n",
       "  </thead>\n",
       "  <tbody>\n",
       "    <tr>\n",
       "      <th>0</th>\n",
       "      <td>H1</td>\n",
       "      <td>22 Evergreen Drive</td>\n",
       "      <td>Davoren Park</td>\n",
       "      <td>SA</td>\n",
       "      <td>5113</td>\n",
       "      <td>NaN</td>\n",
       "      <td>NaN</td>\n",
       "      <td>22 Evergreen Drive, Davoren Park, SA, 5113</td>\n",
       "    </tr>\n",
       "    <tr>\n",
       "      <th>1</th>\n",
       "      <td>H2</td>\n",
       "      <td>24 Evergreen Drive</td>\n",
       "      <td>Davoren Park</td>\n",
       "      <td>SA</td>\n",
       "      <td>5113</td>\n",
       "      <td>NaN</td>\n",
       "      <td>NaN</td>\n",
       "      <td>24 Evergreen Drive, Davoren Park, SA, 5113</td>\n",
       "    </tr>\n",
       "    <tr>\n",
       "      <th>2</th>\n",
       "      <td>H3</td>\n",
       "      <td>12 Fahey Court</td>\n",
       "      <td>Brookdale</td>\n",
       "      <td>WA</td>\n",
       "      <td>6112</td>\n",
       "      <td>NaN</td>\n",
       "      <td>NaN</td>\n",
       "      <td>12 Fahey Court, Brookdale, WA, 6112</td>\n",
       "    </tr>\n",
       "    <tr>\n",
       "      <th>3</th>\n",
       "      <td>H4</td>\n",
       "      <td>8 Raam Circuit</td>\n",
       "      <td>Armstrong Creek</td>\n",
       "      <td>VIC</td>\n",
       "      <td>3217</td>\n",
       "      <td>NaN</td>\n",
       "      <td>NaN</td>\n",
       "      <td>8 Raam Circuit, Armstrong Creek, VIC, 3217</td>\n",
       "    </tr>\n",
       "    <tr>\n",
       "      <th>4</th>\n",
       "      <td>H5</td>\n",
       "      <td>58 Sumac Street</td>\n",
       "      <td>Brookfield</td>\n",
       "      <td>VIC</td>\n",
       "      <td>3338</td>\n",
       "      <td>NaN</td>\n",
       "      <td>NaN</td>\n",
       "      <td>58 Sumac Street, Brookfield, VIC, 3338</td>\n",
       "    </tr>\n",
       "    <tr>\n",
       "      <th>...</th>\n",
       "      <td>...</td>\n",
       "      <td>...</td>\n",
       "      <td>...</td>\n",
       "      <td>...</td>\n",
       "      <td>...</td>\n",
       "      <td>...</td>\n",
       "      <td>...</td>\n",
       "      <td>...</td>\n",
       "    </tr>\n",
       "    <tr>\n",
       "      <th>1240</th>\n",
       "      <td>R320_2</td>\n",
       "      <td>1/36 Bert Street</td>\n",
       "      <td>GOSNELLS</td>\n",
       "      <td>WA</td>\n",
       "      <td>6110</td>\n",
       "      <td>NaN</td>\n",
       "      <td>NaN</td>\n",
       "      <td>1/36 Bert Street, GOSNELLS, WA, 6110</td>\n",
       "    </tr>\n",
       "    <tr>\n",
       "      <th>1241</th>\n",
       "      <td>R401_2</td>\n",
       "      <td>28 Campbell Street</td>\n",
       "      <td>Chinchilla</td>\n",
       "      <td>QLD</td>\n",
       "      <td>4413</td>\n",
       "      <td>NaN</td>\n",
       "      <td>NaN</td>\n",
       "      <td>28 Campbell Street, Chinchilla, QLD, 4413</td>\n",
       "    </tr>\n",
       "    <tr>\n",
       "      <th>1242</th>\n",
       "      <td>R517_2</td>\n",
       "      <td>2/85 Frederick Street</td>\n",
       "      <td>Wanneroo</td>\n",
       "      <td>WA</td>\n",
       "      <td>6065</td>\n",
       "      <td>NaN</td>\n",
       "      <td>NaN</td>\n",
       "      <td>2/85 Frederick Street, Wanneroo, WA, 6065</td>\n",
       "    </tr>\n",
       "    <tr>\n",
       "      <th>1243</th>\n",
       "      <td>R569_2</td>\n",
       "      <td>2/46 Calton Terrace</td>\n",
       "      <td>Gympie</td>\n",
       "      <td>QLD</td>\n",
       "      <td>4570</td>\n",
       "      <td>NaN</td>\n",
       "      <td>NaN</td>\n",
       "      <td>2/46 Calton Terrace, Gympie, QLD, 4570</td>\n",
       "    </tr>\n",
       "    <tr>\n",
       "      <th>1244</th>\n",
       "      <td>H279_2</td>\n",
       "      <td>49B Ivanhoe Street</td>\n",
       "      <td>Bassendean</td>\n",
       "      <td>WA</td>\n",
       "      <td>6054</td>\n",
       "      <td>NaN</td>\n",
       "      <td>NaN</td>\n",
       "      <td>49B Ivanhoe Street, Bassendean, WA, 6054</td>\n",
       "    </tr>\n",
       "  </tbody>\n",
       "</table>\n",
       "<p>1245 rows × 8 columns</p>\n",
       "</div>"
      ],
      "text/plain": [
       "          ID                Address           Suburb State  Postcode  Lat  \\\n",
       "0         H1     22 Evergreen Drive     Davoren Park    SA      5113  NaN   \n",
       "1         H2     24 Evergreen Drive     Davoren Park    SA      5113  NaN   \n",
       "2         H3         12 Fahey Court        Brookdale    WA      6112  NaN   \n",
       "3         H4         8 Raam Circuit  Armstrong Creek   VIC      3217  NaN   \n",
       "4         H5        58 Sumac Street       Brookfield   VIC      3338  NaN   \n",
       "...      ...                    ...              ...   ...       ...  ...   \n",
       "1240  R320_2       1/36 Bert Street         GOSNELLS    WA      6110  NaN   \n",
       "1241  R401_2     28 Campbell Street       Chinchilla   QLD      4413  NaN   \n",
       "1242  R517_2  2/85 Frederick Street         Wanneroo    WA      6065  NaN   \n",
       "1243  R569_2    2/46 Calton Terrace           Gympie   QLD      4570  NaN   \n",
       "1244  H279_2     49B Ivanhoe Street       Bassendean    WA      6054  NaN   \n",
       "\n",
       "      Long                                Address_full  \n",
       "0      NaN  22 Evergreen Drive, Davoren Park, SA, 5113  \n",
       "1      NaN  24 Evergreen Drive, Davoren Park, SA, 5113  \n",
       "2      NaN         12 Fahey Court, Brookdale, WA, 6112  \n",
       "3      NaN  8 Raam Circuit, Armstrong Creek, VIC, 3217  \n",
       "4      NaN      58 Sumac Street, Brookfield, VIC, 3338  \n",
       "...    ...                                         ...  \n",
       "1240   NaN        1/36 Bert Street, GOSNELLS, WA, 6110  \n",
       "1241   NaN   28 Campbell Street, Chinchilla, QLD, 4413  \n",
       "1242   NaN   2/85 Frederick Street, Wanneroo, WA, 6065  \n",
       "1243   NaN      2/46 Calton Terrace, Gympie, QLD, 4570  \n",
       "1244   NaN    49B Ivanhoe Street, Bassendean, WA, 6054  \n",
       "\n",
       "[1245 rows x 8 columns]"
      ]
     },
     "execution_count": 15,
     "metadata": {},
     "output_type": "execute_result"
    }
   ],
   "source": [
    "df"
   ]
  },
  {
   "cell_type": "markdown",
   "id": "f993e760-d0fe-4b8a-9e38-0fdd89f79b89",
   "metadata": {},
   "source": [
    "## Finding coordinates\n",
    "Import CSV file with column Address_full. Use free API geopy (OpenStreetMap - Nominatim) and fill Lat and Long columns and save in separate CSV output.csv"
   ]
  },
  {
   "cell_type": "code",
   "execution_count": 5,
   "id": "0a724938-6c31-49a2-abbe-4a140ff5d603",
   "metadata": {},
   "outputs": [
    {
     "name": "stderr",
     "output_type": "stream",
     "text": [
      "100%|██████████████████████████████████████████████████████████████████████████████████| 10/10 [00:09<00:00,  1.07it/s]"
     ]
    },
    {
     "name": "stdout",
     "output_type": "stream",
     "text": [
      "   ID             Address           Suburb State  Postcode        Lat  \\\n",
      "0  H1  22 Evergreen Drive     Davoren Park    SA      5113 -34.687853   \n",
      "1  H2  24 Evergreen Drive     Davoren Park    SA      5113 -34.687853   \n",
      "2  H3      12 Fahey Court        Brookdale    WA      6112 -32.168372   \n",
      "3  H4      8 Raam Circuit  Armstrong Creek   VIC      3217 -38.245119   \n",
      "4  H5     58 Sumac Street       Brookfield   VIC      3338 -37.689834   \n",
      "\n",
      "         Long                                Address_full  \n",
      "0  138.663741  22 Evergreen Drive, Davoren Park, SA, 5113  \n",
      "1  138.663741  24 Evergreen Drive, Davoren Park, SA, 5113  \n",
      "2  116.006220         12 Fahey Court, Brookdale, WA, 6112  \n",
      "3  144.347297  8 Raam Circuit, Armstrong Creek, VIC, 3217  \n",
      "4  144.545329      58 Sumac Street, Brookfield, VIC, 3338  \n"
     ]
    },
    {
     "name": "stderr",
     "output_type": "stream",
     "text": [
      "\n"
     ]
    }
   ],
   "source": [
    "from geopy.geocoders import Nominatim\n",
    "from tqdm import tqdm\n",
    "import time\n",
    "import pandas as pd\n",
    "import os\n",
    "\n",
    "# Load your CSV file\n",
    "data_pkg_path = 'data'\n",
    "filename = 'test_csv2.csv'\n",
    "path = os.path.join(data_pkg_path, filename)\n",
    "df = pd.read_csv(path)  # Ensure this file exists\n",
    "\n",
    "# Initialize the geocoder\n",
    "geolocator = Nominatim(user_agent=\"test_app\")\n",
    "\n",
    "# Function to get latitude and longitude\n",
    "def get_lat_lon(address):\n",
    "    try:\n",
    "        location = geolocator.geocode(address, timeout=10)\n",
    "        if location:\n",
    "            return pd.Series([location.latitude, location.longitude])\n",
    "        else:\n",
    "            return pd.Series([None, None])  # Return None if no match found\n",
    "    except Exception as e:\n",
    "        print(f\"Error with address {address}: {e}\")\n",
    "        return pd.Series([None, None])\n",
    "\n",
    "# Apply the function to the 'Address_full' column\n",
    "tqdm.pandas()\n",
    "df[['Lat', 'Long']] = df['Address_full'].progress_apply(get_lat_lon)\n",
    "\n",
    "# Save the updated DataFrame back to CSV\n",
    "output_file = \"updated_file3.csv\"\n",
    "df.to_csv(output_file, index=False)\n",
    "\n",
    "# Display the first few rows\n",
    "print(df.head())"
   ]
  },
  {
   "cell_type": "markdown",
   "id": "af69a144-0869-4c6f-a32e-df59de55711c",
   "metadata": {},
   "source": [
    "### Check it by using OpenRouteService API"
   ]
  },
  {
   "cell_type": "markdown",
   "id": "0fed3b12-206f-4c91-8a52-860dea5b4ed7",
   "metadata": {},
   "source": [
    "Not really a big difference, but it applied coordinates for all addresses. It applied just coordinate of the middle of the street."
   ]
  },
  {
   "cell_type": "code",
   "execution_count": 7,
   "id": "8c7ed89c-3a6f-4966-b2a5-806c09f66921",
   "metadata": {},
   "outputs": [
    {
     "name": "stderr",
     "output_type": "stream",
     "text": [
      "100%|██████████████████████████████████████████████████████████████████████████████████| 10/10 [00:26<00:00,  2.64s/it]"
     ]
    },
    {
     "name": "stdout",
     "output_type": "stream",
     "text": [
      "   ID             Address           Suburb State  Postcode        Lat  \\\n",
      "0  H1  22 Evergreen Drive     Davoren Park    SA      5113 -34.690598   \n",
      "1  H2  24 Evergreen Drive     Davoren Park    SA      5113 -34.690598   \n",
      "2  H3      12 Fahey Court        Brookdale    WA      6112 -32.168374   \n",
      "3  H4      8 Raam Circuit  Armstrong Creek   VIC      3217 -38.246193   \n",
      "4  H5     58 Sumac Street       Brookfield   VIC      3338 -37.699115   \n",
      "\n",
      "         Long                                Address_full  \n",
      "0  138.668807  22 Evergreen Drive, Davoren Park, SA, 5113  \n",
      "1  138.668807  24 Evergreen Drive, Davoren Park, SA, 5113  \n",
      "2  116.006223         12 Fahey Court, Brookdale, WA, 6112  \n",
      "3  144.348048  8 Raam Circuit, Armstrong Creek, VIC, 3217  \n",
      "4  144.555560      58 Sumac Street, Brookfield, VIC, 3338  \n"
     ]
    },
    {
     "name": "stderr",
     "output_type": "stream",
     "text": [
      "\n"
     ]
    }
   ],
   "source": [
    "from tqdm import tqdm\n",
    "import openrouteservice\n",
    "import time\n",
    "import pandas as pd\n",
    "import os\n",
    "\n",
    "# Load your CSV file\n",
    "data_pkg_path = 'data'\n",
    "filename = 'test_csv2.csv'\n",
    "path = os.path.join(data_pkg_path, filename)\n",
    "df = pd.read_csv(path)  # Ensure this file exists\n",
    "\n",
    "# Initialize the geocoder\n",
    "client = openrouteservice.Client(key='5b3ce3597851110001cf624828ffde81d8634733b0f7b548d69e98af')\n",
    "\n",
    "# Function to get latitude and longitude\n",
    "def get_lat_lon(address):\n",
    "    try:\n",
    "        # Geocode the address using OpenRouteService\n",
    "        geocode_result = client.pelias_search(address, size=1)\n",
    "        \n",
    "        # Check if the geocoding result is available\n",
    "        if geocode_result['features']:\n",
    "            # Extract latitude and longitude\n",
    "            lat = geocode_result['features'][0]['geometry']['coordinates'][1]\n",
    "            lon = geocode_result['features'][0]['geometry']['coordinates'][0]\n",
    "            return pd.Series([lat, lon])\n",
    "        else:\n",
    "            return pd.Series([None, None])  # Return None if no match found\n",
    "    except Exception as e:\n",
    "        print(f\"Error with address {address}: {e}\")\n",
    "        return pd.Series([None, None])\n",
    "\n",
    "# Apply the function to the 'Address_full' column\n",
    "tqdm.pandas()\n",
    "df[['Lat', 'Long']] = df['Address_full'].progress_apply(get_lat_lon)\n",
    "\n",
    "# Save the updated DataFrame back to CSV\n",
    "output_file = \"updated_file3.csv\"\n",
    "df.to_csv(output_file, index=False)\n",
    "\n",
    "# Display the first few rows\n",
    "print(df.head())"
   ]
  },
  {
   "cell_type": "markdown",
   "id": "b46198ef-9b50-4ced-b74b-8d9d3c5afb77",
   "metadata": {},
   "source": [
    "## Geocoding by coordinates"
   ]
  },
  {
   "cell_type": "code",
   "execution_count": 11,
   "id": "280d64eb-20c4-45cb-a0a3-f6af0307bc0a",
   "metadata": {},
   "outputs": [],
   "source": [
    "import os\n",
    "data_pkg_path = 'data'\n",
    "filename = 'updated_file3.csv'\n",
    "path = os.path.join(data_pkg_path, filename)"
   ]
  },
  {
   "cell_type": "code",
   "execution_count": 12,
   "id": "1b47c5c6-17ae-4aec-a573-cf14211da7d6",
   "metadata": {},
   "outputs": [],
   "source": [
    "df = pd.read_csv(path)"
   ]
  },
  {
   "cell_type": "code",
   "execution_count": 22,
   "id": "24dbe587-1c96-43cc-8156-7e1488a87d9b",
   "metadata": {},
   "outputs": [
    {
     "name": "stdout",
     "output_type": "stream",
     "text": [
      "Successfully written output file at output\\geocoded_addresses.shp\n"
     ]
    }
   ],
   "source": [
    "import geopandas as gpd\n",
    "#write file, create geometry geadataframe, save as SHP\n",
    "output_dir = 'output'\n",
    "output_filename = 'geocoded_addresses.shp'\n",
    "output_path = os.path.join(output_dir, output_filename)\n",
    "\n",
    "coordinates = df[['Long', 'Lat']]\n",
    "\n",
    "geometry = gpd.points_from_xy(coordinates['Long'], coordinates['Lat'])\n",
    "gdf = gpd.GeoDataFrame(coordinates, crs='EPSG:4326', geometry=geometry)\n",
    "gdf.to_file(filename=output_path, encoding='utf-8')\n",
    "print('Successfully written output file at {}'.format(output_path))"
   ]
  },
  {
   "cell_type": "code",
   "execution_count": null,
   "id": "c0ba7224-0937-40d8-b150-a7a37bc02131",
   "metadata": {},
   "outputs": [],
   "source": []
  }
 ],
 "metadata": {
  "kernelspec": {
   "display_name": "Python 3 (ipykernel)",
   "language": "python",
   "name": "python3"
  },
  "language_info": {
   "codemirror_mode": {
    "name": "ipython",
    "version": 3
   },
   "file_extension": ".py",
   "mimetype": "text/x-python",
   "name": "python",
   "nbconvert_exporter": "python",
   "pygments_lexer": "ipython3",
   "version": "3.9.21"
  }
 },
 "nbformat": 4,
 "nbformat_minor": 5
}
